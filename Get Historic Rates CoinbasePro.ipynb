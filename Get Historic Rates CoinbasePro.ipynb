{
 "cells": [
  {
   "cell_type": "code",
   "execution_count": 4,
   "id": "native-relations",
   "metadata": {},
   "outputs": [
    {
     "name": "stdout",
     "output_type": "stream",
     "text": [
      "Defaulting to user installation because normal site-packages is not writeable\n",
      "Requirement already satisfied: pip in c:\\users\\ecati\\appdata\\roaming\\python\\python38\\site-packages (21.0.1)\n",
      "Collecting pip\n",
      "  Downloading pip-21.1.1-py3-none-any.whl (1.5 MB)\n",
      "Installing collected packages: pip\n",
      "  Attempting uninstall: pip\n",
      "    Found existing installation: pip 21.0.1\n",
      "    Uninstalling pip-21.0.1:\n",
      "      Successfully uninstalled pip-21.0.1\n",
      "Successfully installed pip-21.1.1\n"
     ]
    },
    {
     "name": "stderr",
     "output_type": "stream",
     "text": [
      "  WARNING: The scripts pip.exe, pip3.8.exe and pip3.exe are installed in 'C:\\Users\\ecati\\AppData\\Roaming\\Python\\Python38\\Scripts' which is not on PATH.\n",
      "  Consider adding this directory to PATH or, if you prefer to suppress this warning, use --no-warn-script-location.\n"
     ]
    },
    {
     "name": "stdout",
     "output_type": "stream",
     "text": [
      "Defaulting to user installation because normal site-packages is not writeable\n",
      "Requirement already satisfied: cbpro in c:\\users\\ecati\\appdata\\roaming\\python\\python38\\site-packages (1.1.4)\n",
      "Requirement already satisfied: pymongo==3.5.1 in c:\\users\\ecati\\appdata\\roaming\\python\\python38\\site-packages (from cbpro) (3.5.1)\n",
      "Requirement already satisfied: six==1.10.0 in c:\\users\\ecati\\appdata\\roaming\\python\\python38\\site-packages (from cbpro) (1.10.0)\n",
      "Requirement already satisfied: requests==2.13.0 in c:\\users\\ecati\\appdata\\roaming\\python\\python38\\site-packages (from cbpro) (2.13.0)\n",
      "Requirement already satisfied: websocket-client==0.40.0 in c:\\users\\ecati\\appdata\\roaming\\python\\python38\\site-packages (from cbpro) (0.40.0)\n",
      "Requirement already satisfied: sortedcontainers>=1.5.9 in c:\\users\\ecati\\appdata\\roaming\\python\\python38\\site-packages (from cbpro) (2.3.0)\n"
     ]
    }
   ],
   "source": [
    "# Install a pip package in the current Jupyter kernel\n",
    "import sys\n",
    "!\"{sys.executable}\" -m pip install --upgrade pip\n",
    "!\"{sys.executable}\" -m pip install cbpro"
   ]
  },
  {
   "cell_type": "code",
   "execution_count": null,
   "id": "loose-indianapolis",
   "metadata": {},
   "outputs": [],
   "source": [
    "import cbpro\n",
    "import time\n",
    "from datetime import datetime\n",
    "import csv\n",
    "import calendar \n",
    "\n",
    "public_client = cbpro.PublicClient()\n",
    "productId = 'BTC-USD'\n",
    "\n",
    "\n",
    "# [ time, low, high, open, close, volume ]\n",
    "# https://docs.pro.coinbase.com/#get-trades\n",
    "heading = [ \"time\", \"low\", \"high\", \"open\", \"close\", \"volume\" ]\n",
    "\n",
    "startYear = 2016\n",
    "endYear = 2021\n",
    "ticker = 'BTC-USD'\n",
    "  \n",
    "for year in range(startYear, endYear):\n",
    "    fileName = str(year) + \".csv\"\n",
    "    with open(fileName, \"w\", newline=\"\") as f:\n",
    "        writer = csv.writer(f)\n",
    "        writer.writerow(heading)\n",
    "    \n",
    "        for month in range(1, 13):\n",
    "            nofDays=calendar.monthrange(year,month)[1]\n",
    "\n",
    "            for day in range(1, nofDays): \n",
    "                startDate = datetime(year,month,day)\n",
    "                endDate = datetime(year,month,day+1)\n",
    "\n",
    "                data = public_client.get_product_historic_rates(ticker, granularity=300,\n",
    "                                                                start = startDate,\n",
    "                                                                end = endDate)            \n",
    "                writer.writerows(data)   \n",
    "    \n",
    "# add a local time column\n",
    "local_time = []\n",
    "data = pd.read_csv(\"2020.csv\")\n",
    "for timestamp in data['time']: \n",
    "    local_time.append(datetime.datetime.fromtimestamp(int(timestamp)))\n",
    "    \n",
    "data['local_time'] = local_time\n",
    "\n",
    "# sort asceding by timestamp\n",
    "#sort_by_time = data.sort_values('time', ascending=True)\n",
    "#data = sort_by_time\n",
    "#sort_by_time.dropna()\n",
    "#sort_by_time.to_csv('2020_V1.csv',index=False)\n",
    "\n",
    "print(\"End\")"
   ]
  },
  {
   "cell_type": "code",
   "execution_count": null,
   "id": "bizarre-offering",
   "metadata": {},
   "outputs": [],
   "source": []
  }
 ],
 "metadata": {
  "kernelspec": {
   "display_name": "Python 3",
   "language": "python",
   "name": "python3"
  },
  "language_info": {
   "codemirror_mode": {
    "name": "ipython",
    "version": 3
   },
   "file_extension": ".py",
   "mimetype": "text/x-python",
   "name": "python",
   "nbconvert_exporter": "python",
   "pygments_lexer": "ipython3",
   "version": "3.8.8"
  }
 },
 "nbformat": 4,
 "nbformat_minor": 5
}
